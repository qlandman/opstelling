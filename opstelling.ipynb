{
 "cells": [
  {
   "cell_type": "code",
   "execution_count": 1,
   "metadata": {},
   "outputs": [],
   "source": [
    "from tabulate import tabulate\n",
    "import numpy as np\n",
    "\n",
    "import random\n",
    "\n",
    "n_periods: int = 8\n",
    "\n",
    "team_members: list[str] = [\n",
    "    \"Benjamin\",\n",
    "    \"Vik\",\n",
    "    \"Vigo\",\n",
    "    \"Can\",\n",
    "    \"Njabulo\",\n",
    "    \"Lars\",\n",
    "    \"Sebas\",\n",
    "    \"Kees\",\n",
    "    \"Hamza\",\n",
    "]\n",
    "\n",
    "excl_team: list[str] = []\n",
    "\n",
    "tasks_base = [\n",
    "    \"Keeper\",\n",
    "    \"Aanvaller\",\n",
    "    \"Middenvelder 1\",\n",
    "    \"Middenvelder 2\",\n",
    "    \"Verdediger 1\",\n",
    "    \"Verdediger 2\",\n",
    "]\n",
    "\n",
    "headers = [f\"Periode {i + 1}\" for i in range(n_periods)]\n",
    "\n",
    "keepers: list[str] = [\"Hamza\", \"Vik\", \"Vigo\", \"Njabulo\"]\n",
    "keeper_idx = [team_members.index(keeper) for keeper in keepers]\n",
    "random.shuffle(keeper_idx)\n",
    "\n",
    "team: list[str] = [i for i in team_members if i not in excl_team]\n",
    "team_idx = [team_members.index(member) for member in team]\n",
    "random.shuffle(team_idx)\n",
    "\n",
    "n_team: int = len(team)  # Number of team members\n",
    "n_tasks: int = len(tasks_base)  # Number of team positions\n",
    "n_subs: int = n_team - n_tasks  # The number of subs\n",
    "\n",
    "tasks_sub = [f\"Wissel {i}\" for i in range(1, n_subs + 1)]\n",
    "tasks = tasks_base + tasks_sub\n",
    "\n",
    "# Create the matrix where rows are n team members playing and columns the\n",
    "# n of periods\n",
    "matrix: np.array = np.full((n_team, n_periods), -1).astype(int)"
   ]
  },
  {
   "cell_type": "code",
   "execution_count": 2,
   "metadata": {},
   "outputs": [
    {
     "data": {
      "text/plain": [
       "array([[ 8,  8,  4,  4,  2,  2,  1,  1],\n",
       "       [-1, -1, -1, -1, -1, -1, -1, -1],\n",
       "       [-1, -1, -1, -1, -1, -1, -1, -1],\n",
       "       [-1, -1, -1, -1, -1, -1, -1, -1],\n",
       "       [-1, -1, -1, -1, -1, -1, -1, -1],\n",
       "       [-1, -1, -1, -1, -1, -1, -1, -1],\n",
       "       [-1, -1, -1, -1, -1, -1, -1, -1],\n",
       "       [-1, -1, -1, -1, -1, -1, -1, -1],\n",
       "       [-1, -1, -1, -1, -1, -1, -1, -1]])"
      ]
     },
     "execution_count": 2,
     "metadata": {},
     "output_type": "execute_result"
    }
   ],
   "source": [
    "# Set the keepers\n",
    "matrix[0, np.arange(len(keeper_idx)) * 2] = keeper_idx\n",
    "matrix[0, np.arange(len(keeper_idx)) * 2 + 1] = keeper_idx\n",
    "\n",
    "matrix"
   ]
  },
  {
   "cell_type": "code",
   "execution_count": 3,
   "metadata": {},
   "outputs": [
    {
     "data": {
      "text/plain": [
       "array([[ 8,  8,  4,  4,  2,  2,  1,  1],\n",
       "       [-1, -1, -1, -1, -1, -1, -1, -1],\n",
       "       [-1, -1, -1, -1, -1, -1, -1, -1],\n",
       "       [-1, -1, -1, -1, -1, -1, -1, -1],\n",
       "       [-1, -1, -1, -1, -1, -1, -1, -1],\n",
       "       [-1, -1, -1, -1, -1, -1, -1, -1],\n",
       "       [ 2,  0,  7,  1,  8,  7,  2,  0],\n",
       "       [ 4,  5,  6,  2,  5,  6,  4,  8],\n",
       "       [ 3,  1,  8,  3,  4,  0,  3,  5]])"
      ]
     },
     "execution_count": 3,
     "metadata": {},
     "output_type": "execute_result"
    }
   ],
   "source": [
    "# Set the substitutes for each period\n",
    "sub_list: list = team_idx * (n_subs + 1)\n",
    "\n",
    "for i in range(n_periods):\n",
    "    for j in range(1, n_subs + 1):\n",
    "        # t represents the first team member id from the list    \n",
    "        t: int = sub_list[0]\n",
    "\n",
    "        # Check if the team member is already in the column\n",
    "        if np.isin(t, matrix[:,i]):\n",
    "            # Take the next element in the list given t is Keeper    \n",
    "            t = sub_list[1]\n",
    "            # Check if team member was sub in previous period, if yes take next\n",
    "            if np.isin(t, matrix[-n_subs:,i-1]):\n",
    "                t = sub_list.pop(2)\n",
    "            else:\n",
    "                t = sub_list.pop(1)\n",
    "            matrix[j * -1, i] = t\n",
    "        else:\n",
    "            sub_list.remove(t)\n",
    "            matrix[j * -1, i] = t        \n",
    "\n",
    "matrix"
   ]
  },
  {
   "cell_type": "code",
   "execution_count": 4,
   "metadata": {},
   "outputs": [
    {
     "name": "stdout",
     "output_type": "stream",
     "text": [
      "Loop number: 0\n",
      "Loop number: 1\n",
      "Loop number: 2\n",
      "Loop number: 3\n",
      "Loop number: 4\n",
      "Loop number: 5\n",
      "Loop number: 6\n",
      "Loop number: 7\n"
     ]
    },
    {
     "data": {
      "text/plain": [
       "array([0, 2, 1, 6, 3, 5, 7, 4])"
      ]
     },
     "execution_count": 4,
     "metadata": {},
     "output_type": "execute_result"
    }
   ],
   "source": [
    "# Aanvallers for each period\n",
    "for i in range(n_periods):\n",
    "        \n",
    "    unique_values, counts = np.unique(np.append(matrix[1,:], team_idx), \n",
    "                                      return_counts=True)\n",
    "\n",
    "    # Sort the unique values and their counts\n",
    "    sorted_indices = np.argsort(counts)\n",
    "    sorted_values = unique_values[sorted_indices]\n",
    "    sorted_counts = counts[sorted_indices]\n",
    "    print(f\"Loop number: {i}\")\n",
    "    # for value, count in zip(sorted_values, sorted_counts):\n",
    "    #     print(f\"Value: {value}, Count: {count}\")\n",
    "\n",
    "    val = np.array([el for el in sorted_values if el not in matrix[:,i]])\n",
    "\n",
    "    matrix[1,i] = val[0]\n",
    "    \n",
    "\n",
    "matrix[1,:]\n"
   ]
  },
  {
   "cell_type": "code",
   "execution_count": 5,
   "metadata": {},
   "outputs": [
    {
     "name": "stdout",
     "output_type": "stream",
     "text": [
      "+----------------+-------------+-------------+-------------+-------------+-------------+-------------+-------------+-------------+\n",
      "|                | Periode 1   | Periode 2   | Periode 3   | Periode 4   | Periode 5   | Periode 6   | Periode 7   | Periode 8   |\n",
      "+================+=============+=============+=============+=============+=============+=============+=============+=============+\n",
      "| Keeper         | Hamza       | Hamza       | Njabulo     | Njabulo     | Vigo        | Vigo        | Vik         | Vik         |\n",
      "+----------------+-------------+-------------+-------------+-------------+-------------+-------------+-------------+-------------+\n",
      "| Aanvaller      | Benjamin    | Vigo        | Vik         | Sebas       | Can         | Lars        | Kees        | Njabulo     |\n",
      "+----------------+-------------+-------------+-------------+-------------+-------------+-------------+-------------+-------------+\n",
      "| Middenvelder 1 | Hamza       | Hamza       | Hamza       | Hamza       | Hamza       | Hamza       | Hamza       | Hamza       |\n",
      "+----------------+-------------+-------------+-------------+-------------+-------------+-------------+-------------+-------------+\n",
      "| Middenvelder 2 | Hamza       | Hamza       | Hamza       | Hamza       | Hamza       | Hamza       | Hamza       | Hamza       |\n",
      "+----------------+-------------+-------------+-------------+-------------+-------------+-------------+-------------+-------------+\n",
      "| Verdediger 1   | Hamza       | Hamza       | Hamza       | Hamza       | Hamza       | Hamza       | Hamza       | Hamza       |\n",
      "+----------------+-------------+-------------+-------------+-------------+-------------+-------------+-------------+-------------+\n",
      "| Verdediger 2   | Hamza       | Hamza       | Hamza       | Hamza       | Hamza       | Hamza       | Hamza       | Hamza       |\n",
      "+----------------+-------------+-------------+-------------+-------------+-------------+-------------+-------------+-------------+\n",
      "| Wissel 1       | Vigo        | Benjamin    | Kees        | Vik         | Hamza       | Kees        | Vigo        | Benjamin    |\n",
      "+----------------+-------------+-------------+-------------+-------------+-------------+-------------+-------------+-------------+\n",
      "| Wissel 2       | Njabulo     | Lars        | Sebas       | Vigo        | Lars        | Sebas       | Njabulo     | Hamza       |\n",
      "+----------------+-------------+-------------+-------------+-------------+-------------+-------------+-------------+-------------+\n",
      "| Wissel 3       | Can         | Vik         | Hamza       | Can         | Njabulo     | Benjamin    | Can         | Lars        |\n",
      "+----------------+-------------+-------------+-------------+-------------+-------------+-------------+-------------+-------------+\n"
     ]
    }
   ],
   "source": [
    "# Replace the index with the name of team members\n",
    "matrix_str = [[team_members[matrix[i][j]] for j in range(n_periods)] for i in range(n_team)]\n",
    "\n",
    "# Add tasks row\n",
    "[row.insert(0, task) for task, row in zip(tasks, matrix_str)]\n",
    "\n",
    "print(tabulate(matrix_str, headers=headers, tablefmt=\"grid\"))"
   ]
  },
  {
   "cell_type": "code",
   "execution_count": 6,
   "metadata": {},
   "outputs": [
    {
     "name": "stdout",
     "output_type": "stream",
     "text": [
      "Value Benjamin: 3 occurrences\n",
      "Value Vik: 2 occurrences\n",
      "Value Vigo: 3 occurrences\n",
      "Value Can: 3 occurrences\n",
      "Value Njabulo: 3 occurrences\n",
      "Value Lars: 3 occurrences\n",
      "Value Sebas: 2 occurrences\n",
      "Value Kees: 2 occurrences\n",
      "Value Hamza: 3 occurrences\n"
     ]
    }
   ],
   "source": [
    "\n",
    "unique_values, counts = np.unique(matrix[-n_subs:, :], return_counts=True)\n",
    "\n",
    "# Combine the unique values and their counts into a dictionary for an overview\n",
    "for value, count in zip(unique_values, counts):\n",
    "    print(f\"Value {team_members[value]}: {count} occurrences\")\n",
    "\n",
    "\n"
   ]
  },
  {
   "cell_type": "code",
   "execution_count": 7,
   "metadata": {},
   "outputs": [
    {
     "name": "stdout",
     "output_type": "stream",
     "text": [
      "+----------------+-------------+-------------+-------------+-------------+-------------+-------------+-------------+-------------+\n",
      "|                | Periode 1   | Periode 2   | Periode 3   | Periode 4   | Periode 5   | Periode 6   | Periode 7   | Periode 8   |\n",
      "+================+=============+=============+=============+=============+=============+=============+=============+=============+\n",
      "| Keeper         | Hamza       | Hamza       | Njabulo     | Njabulo     | Vigo        | Vigo        | Vik         | Vik         |\n",
      "+----------------+-------------+-------------+-------------+-------------+-------------+-------------+-------------+-------------+\n",
      "| Aanvaller      | Benjamin    | Vigo        | Vik         | Sebas       | Can         | Lars        | Kees        | Njabulo     |\n",
      "+----------------+-------------+-------------+-------------+-------------+-------------+-------------+-------------+-------------+\n",
      "| Middenvelder 1 | Hamza       | Hamza       | Hamza       | Hamza       | Hamza       | Hamza       | Hamza       | Hamza       |\n",
      "+----------------+-------------+-------------+-------------+-------------+-------------+-------------+-------------+-------------+\n",
      "| Middenvelder 2 | Hamza       | Hamza       | Hamza       | Hamza       | Hamza       | Hamza       | Hamza       | Hamza       |\n",
      "+----------------+-------------+-------------+-------------+-------------+-------------+-------------+-------------+-------------+\n",
      "| Verdediger 1   | Hamza       | Hamza       | Hamza       | Hamza       | Hamza       | Hamza       | Hamza       | Hamza       |\n",
      "+----------------+-------------+-------------+-------------+-------------+-------------+-------------+-------------+-------------+\n",
      "| Verdediger 2   | Hamza       | Hamza       | Hamza       | Hamza       | Hamza       | Hamza       | Hamza       | Hamza       |\n",
      "+----------------+-------------+-------------+-------------+-------------+-------------+-------------+-------------+-------------+\n",
      "| Wissel 1       | Vigo        | Benjamin    | Kees        | Vik         | Hamza       | Kees        | Vigo        | Benjamin    |\n",
      "+----------------+-------------+-------------+-------------+-------------+-------------+-------------+-------------+-------------+\n",
      "| Wissel 2       | Njabulo     | Lars        | Sebas       | Vigo        | Lars        | Sebas       | Njabulo     | Hamza       |\n",
      "+----------------+-------------+-------------+-------------+-------------+-------------+-------------+-------------+-------------+\n",
      "| Wissel 3       | Can         | Vik         | Hamza       | Can         | Njabulo     | Benjamin    | Can         | Lars        |\n",
      "+----------------+-------------+-------------+-------------+-------------+-------------+-------------+-------------+-------------+\n"
     ]
    }
   ],
   "source": [
    "# Replace the index with the name of team members\n",
    "matrix_str = [[team_members[matrix[i][j]] for j in range(n_periods)] for i in range(n_team)]\n",
    "\n",
    "# Add tasks row\n",
    "[row.insert(0, task) for task, row in zip(tasks, matrix_str)]\n",
    "\n",
    "print(tabulate(matrix_str, headers=headers, tablefmt=\"grid\"))"
   ]
  }
 ],
 "metadata": {
  "kernelspec": {
   "display_name": ".venv",
   "language": "python",
   "name": "python3"
  },
  "language_info": {
   "codemirror_mode": {
    "name": "ipython",
    "version": 3
   },
   "file_extension": ".py",
   "mimetype": "text/x-python",
   "name": "python",
   "nbconvert_exporter": "python",
   "pygments_lexer": "ipython3",
   "version": "3.12.7"
  }
 },
 "nbformat": 4,
 "nbformat_minor": 2
}
