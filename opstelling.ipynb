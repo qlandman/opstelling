{
 "cells": [
  {
   "cell_type": "code",
   "execution_count": 241,
   "metadata": {},
   "outputs": [],
   "source": [
    "from tabulate import tabulate\n",
    "import numpy as np\n",
    "import random\n",
    "\n",
    "n_periods: int = 8\n",
    "\n",
    "team_members: list[str] = [\n",
    "    \"Benjamin\",\n",
    "    \"Vik\",\n",
    "    \"Vigo\",\n",
    "    \"Can\",\n",
    "    \"Njabulo\",\n",
    "    \"Lars\",\n",
    "    \"Sebas\",\n",
    "    \"Kees\",\n",
    "    \"Hamza\",\n",
    "]\n",
    "\n",
    "excl_team: list[str] = []\n",
    "\n",
    "tasks_base = [\n",
    "    \"Keeper\",\n",
    "    \"Aanvaller\",\n",
    "    \"Middenvelder 1\",\n",
    "    \"Middenvelder 2\",\n",
    "    \"Verdediger 1\",\n",
    "    \"Verdediger 2\",\n",
    "]\n",
    "\n",
    "headers = [f\"Periode {i + 1}\" for i in range(n_periods)]\n",
    "\n",
    "keepers: list[str] = [\"Hamza\", \"Vik\", \"Vigo\", \"Njabulo\"]\n",
    "keeper_idx = [team_members.index(keeper) for keeper in keepers]\n",
    "random.shuffle(keeper_idx)\n",
    "\n",
    "team: list[str] = [i for i in team_members if i not in excl_team]\n",
    "team_idx = [team_members.index(member) for member in team]\n",
    "random.shuffle(team_idx)\n",
    "\n",
    "n_team: int = len(team)  # Number of team members\n",
    "n_tasks: int = len(tasks_base)  # Number of team positions\n",
    "n_subs: int = n_team - n_tasks  # The number of subs\n",
    "\n",
    "tasks_sub = [f\"Wissel {i}\" for i in range(1, n_subs + 1)]\n",
    "tasks = tasks_base + tasks_sub\n",
    "\n",
    "# Create the matrix where rows are n team members playing and columns the\n",
    "# n of periods\n",
    "matrix: np.array = np.full((n_team, n_periods), -1).astype(int)"
   ]
  },
  {
   "cell_type": "code",
   "execution_count": 242,
   "metadata": {},
   "outputs": [
    {
     "data": {
      "text/plain": [
       "array([[ 4,  4,  8,  8,  1,  1,  2,  2],\n",
       "       [-1, -1, -1, -1, -1, -1, -1, -1],\n",
       "       [-1, -1, -1, -1, -1, -1, -1, -1],\n",
       "       [-1, -1, -1, -1, -1, -1, -1, -1],\n",
       "       [-1, -1, -1, -1, -1, -1, -1, -1],\n",
       "       [-1, -1, -1, -1, -1, -1, -1, -1],\n",
       "       [-1, -1, -1, -1, -1, -1, -1, -1],\n",
       "       [-1, -1, -1, -1, -1, -1, -1, -1],\n",
       "       [-1, -1, -1, -1, -1, -1, -1, -1]])"
      ]
     },
     "execution_count": 242,
     "metadata": {},
     "output_type": "execute_result"
    }
   ],
   "source": [
    "# Set the keepers\n",
    "matrix[0, np.arange(len(keeper_idx)) * 2] = keeper_idx\n",
    "matrix[0, np.arange(len(keeper_idx)) * 2 + 1] = keeper_idx\n",
    "\n",
    "matrix"
   ]
  },
  {
   "cell_type": "code",
   "execution_count": 243,
   "metadata": {},
   "outputs": [
    {
     "data": {
      "text/plain": [
       "array([[ 4,  4,  8,  8,  1,  1,  2,  2],\n",
       "       [-1, -1, -1, -1, -1, -1, -1, -1],\n",
       "       [-1, -1, -1, -1, -1, -1, -1, -1],\n",
       "       [-1, -1, -1, -1, -1, -1, -1, -1],\n",
       "       [-1, -1, -1, -1, -1, -1, -1, -1],\n",
       "       [-1, -1, -1, -1, -1, -1, -1, -1],\n",
       "       [ 1,  8,  6,  3,  8,  0,  3,  8],\n",
       "       [ 3,  7,  5,  4,  7,  6,  4,  7],\n",
       "       [ 0,  2,  4,  0,  2,  5,  1,  1]])"
      ]
     },
     "execution_count": 243,
     "metadata": {},
     "output_type": "execute_result"
    }
   ],
   "source": [
    "# Set the substitutes for each period\n",
    "sub_list: list = team_idx * (n_subs + 1)\n",
    "\n",
    "for i in range(n_periods):\n",
    "    for j in range(1, n_subs + 1):\n",
    "        # t represents the first team member id from the list    \n",
    "        t: int = sub_list[0]\n",
    "\n",
    "        # Check if the team member is already in the column\n",
    "        if np.isin(t, matrix[:,i]):\n",
    "            # Take the next element in the list given t is Keeper    \n",
    "            t = sub_list[1]\n",
    "            # Check if team member was sub in previous period, if yes take next\n",
    "            if np.isin(t, matrix[-n_subs:,i-1]):\n",
    "                t = sub_list.pop(2)\n",
    "            else:\n",
    "                t = sub_list.pop(1)\n",
    "            matrix[j * -1, i] = t\n",
    "        else:\n",
    "            sub_list.remove(t)\n",
    "            matrix[j * -1, i] = t        \n",
    "\n",
    "matrix"
   ]
  },
  {
   "cell_type": "code",
   "execution_count": 244,
   "metadata": {},
   "outputs": [
    {
     "name": "stdout",
     "output_type": "stream",
     "text": [
      "2\n",
      "the current attacker Vigo  is now sub in period 2\n",
      "8\n",
      "8\n",
      "4\n",
      "6\n",
      "8\n"
     ]
    }
   ],
   "source": [
    "# Aanvallers for each period\n",
    "for i in range(n_periods):\n",
    "\n",
    "    if (i+1) % 2 == 0:\n",
    "        print(i+1)\n",
    "        # We are substituting in the period\n",
    "        # Get the previous attacker and check if he is substitute\n",
    "        p_attack = matrix[1,i-1] # get attacker from previous period\n",
    "        if p_attack in matrix[:,1]:\n",
    "            print(f\"the current attacker {team_members[p_attack]}  is now sub in period {i+1}\")\n",
    "            loc_sub = np.where(matrix[:,1] == p_attack)[0][0]\n",
    "            matrix[1,i] = matrix[loc_sub, i-1]\n",
    "        else:\n",
    "            matrix[1,i] = matrix[1, i-1]\n",
    "    else:\n",
    "        unique_values, counts = np.unique(np.append(matrix[1,:], team_idx), \n",
    "                                        return_counts=True)\n",
    "\n",
    "        # Sort the unique values and their counts\n",
    "        sorted_indices = np.argsort(counts)\n",
    "        sorted_values = unique_values[sorted_indices]\n",
    "   \n",
    "        val = np.array([el for el in sorted_values if el not in matrix[:,i]])\n",
    "\n",
    "        matrix[1,i] = val[0]\n",
    "    "
   ]
  },
  {
   "cell_type": "code",
   "execution_count": 245,
   "metadata": {},
   "outputs": [
    {
     "name": "stdout",
     "output_type": "stream",
     "text": [
      "+----------------+-------------+-------------+-------------+-------------+-------------+-------------+-------------+-------------+\n",
      "|                | Periode 1   | Periode 2   | Periode 3   | Periode 4   | Periode 5   | Periode 6   | Periode 7   | Periode 8   |\n",
      "+================+=============+=============+=============+=============+=============+=============+=============+=============+\n",
      "| Keeper         | Njabulo     | Njabulo     | Hamza       | Hamza       | Vik         | Vik         | Vigo        | Vigo        |\n",
      "+----------------+-------------+-------------+-------------+-------------+-------------+-------------+-------------+-------------+\n",
      "| Aanvaller      | Vigo        | Benjamin    | Vik         | Vik         | Sebas       | Sebas       | Lars        | Lars        |\n",
      "+----------------+-------------+-------------+-------------+-------------+-------------+-------------+-------------+-------------+\n",
      "| Middenvelder 1 | Hamza       | Hamza       | Hamza       | Hamza       | Hamza       | Hamza       | Hamza       | Hamza       |\n",
      "+----------------+-------------+-------------+-------------+-------------+-------------+-------------+-------------+-------------+\n",
      "| Middenvelder 2 | Hamza       | Hamza       | Hamza       | Hamza       | Hamza       | Hamza       | Hamza       | Hamza       |\n",
      "+----------------+-------------+-------------+-------------+-------------+-------------+-------------+-------------+-------------+\n",
      "| Verdediger 1   | Hamza       | Hamza       | Hamza       | Hamza       | Hamza       | Hamza       | Hamza       | Hamza       |\n",
      "+----------------+-------------+-------------+-------------+-------------+-------------+-------------+-------------+-------------+\n",
      "| Verdediger 2   | Hamza       | Hamza       | Hamza       | Hamza       | Hamza       | Hamza       | Hamza       | Hamza       |\n",
      "+----------------+-------------+-------------+-------------+-------------+-------------+-------------+-------------+-------------+\n",
      "| Wissel 1       | Vik         | Hamza       | Sebas       | Can         | Hamza       | Benjamin    | Can         | Hamza       |\n",
      "+----------------+-------------+-------------+-------------+-------------+-------------+-------------+-------------+-------------+\n",
      "| Wissel 2       | Can         | Kees        | Lars        | Njabulo     | Kees        | Sebas       | Njabulo     | Kees        |\n",
      "+----------------+-------------+-------------+-------------+-------------+-------------+-------------+-------------+-------------+\n",
      "| Wissel 3       | Benjamin    | Vigo        | Njabulo     | Benjamin    | Vigo        | Lars        | Vik         | Vik         |\n",
      "+----------------+-------------+-------------+-------------+-------------+-------------+-------------+-------------+-------------+\n"
     ]
    }
   ],
   "source": [
    "# Replace the index with the name of team members\n",
    "matrix_str = [[team_members[matrix[i][j]] for j in range(n_periods)] for i in range(n_team)]\n",
    "\n",
    "# Add tasks row\n",
    "[row.insert(0, task) for task, row in zip(tasks, matrix_str)]\n",
    "\n",
    "print(tabulate(matrix_str, headers=headers, tablefmt=\"grid\"))"
   ]
  },
  {
   "cell_type": "code",
   "execution_count": 246,
   "metadata": {},
   "outputs": [
    {
     "name": "stdout",
     "output_type": "stream",
     "text": [
      "Value Benjamin: 3 occurrences\n",
      "Value Vik: 3 occurrences\n",
      "Value Vigo: 2 occurrences\n",
      "Value Can: 3 occurrences\n",
      "Value Njabulo: 3 occurrences\n",
      "Value Lars: 2 occurrences\n",
      "Value Sebas: 2 occurrences\n",
      "Value Kees: 3 occurrences\n",
      "Value Hamza: 3 occurrences\n"
     ]
    }
   ],
   "source": [
    "\n",
    "unique_values, counts = np.unique(matrix[-n_subs:, :], return_counts=True)\n",
    "\n",
    "# Combine the unique values and their counts into a dictionary for an overview\n",
    "for value, count in zip(unique_values, counts):\n",
    "    print(f\"Value {team_members[value]}: {count} occurrences\")\n",
    "\n",
    "\n"
   ]
  },
  {
   "cell_type": "code",
   "execution_count": 247,
   "metadata": {},
   "outputs": [
    {
     "name": "stdout",
     "output_type": "stream",
     "text": [
      "+----------------+-------------+-------------+-------------+-------------+-------------+-------------+-------------+-------------+\n",
      "|                | Periode 1   | Periode 2   | Periode 3   | Periode 4   | Periode 5   | Periode 6   | Periode 7   | Periode 8   |\n",
      "+================+=============+=============+=============+=============+=============+=============+=============+=============+\n",
      "| Keeper         | Njabulo     | Njabulo     | Hamza       | Hamza       | Vik         | Vik         | Vigo        | Vigo        |\n",
      "+----------------+-------------+-------------+-------------+-------------+-------------+-------------+-------------+-------------+\n",
      "| Aanvaller      | Vigo        | Benjamin    | Vik         | Vik         | Sebas       | Sebas       | Lars        | Lars        |\n",
      "+----------------+-------------+-------------+-------------+-------------+-------------+-------------+-------------+-------------+\n",
      "| Middenvelder 1 | Hamza       | Hamza       | Hamza       | Hamza       | Hamza       | Hamza       | Hamza       | Hamza       |\n",
      "+----------------+-------------+-------------+-------------+-------------+-------------+-------------+-------------+-------------+\n",
      "| Middenvelder 2 | Hamza       | Hamza       | Hamza       | Hamza       | Hamza       | Hamza       | Hamza       | Hamza       |\n",
      "+----------------+-------------+-------------+-------------+-------------+-------------+-------------+-------------+-------------+\n",
      "| Verdediger 1   | Hamza       | Hamza       | Hamza       | Hamza       | Hamza       | Hamza       | Hamza       | Hamza       |\n",
      "+----------------+-------------+-------------+-------------+-------------+-------------+-------------+-------------+-------------+\n",
      "| Verdediger 2   | Hamza       | Hamza       | Hamza       | Hamza       | Hamza       | Hamza       | Hamza       | Hamza       |\n",
      "+----------------+-------------+-------------+-------------+-------------+-------------+-------------+-------------+-------------+\n",
      "| Wissel 1       | Vik         | Hamza       | Sebas       | Can         | Hamza       | Benjamin    | Can         | Hamza       |\n",
      "+----------------+-------------+-------------+-------------+-------------+-------------+-------------+-------------+-------------+\n",
      "| Wissel 2       | Can         | Kees        | Lars        | Njabulo     | Kees        | Sebas       | Njabulo     | Kees        |\n",
      "+----------------+-------------+-------------+-------------+-------------+-------------+-------------+-------------+-------------+\n",
      "| Wissel 3       | Benjamin    | Vigo        | Njabulo     | Benjamin    | Vigo        | Lars        | Vik         | Vik         |\n",
      "+----------------+-------------+-------------+-------------+-------------+-------------+-------------+-------------+-------------+\n"
     ]
    }
   ],
   "source": [
    "# Replace the index with the name of team members\n",
    "matrix_str = [[team_members[matrix[i][j]] for j in range(n_periods)] for i in range(n_team)]\n",
    "\n",
    "# Add tasks row\n",
    "[row.insert(0, task) for task, row in zip(tasks, matrix_str)]\n",
    "\n",
    "print(tabulate(matrix_str, headers=headers, tablefmt=\"grid\"))"
   ]
  }
 ],
 "metadata": {
  "kernelspec": {
   "display_name": ".venv",
   "language": "python",
   "name": "python3"
  },
  "language_info": {
   "codemirror_mode": {
    "name": "ipython",
    "version": 3
   },
   "file_extension": ".py",
   "mimetype": "text/x-python",
   "name": "python",
   "nbconvert_exporter": "python",
   "pygments_lexer": "ipython3",
   "version": "3.12.7"
  }
 },
 "nbformat": 4,
 "nbformat_minor": 2
}
