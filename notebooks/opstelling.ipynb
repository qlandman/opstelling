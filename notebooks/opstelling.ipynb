{
 "cells": [
  {
   "cell_type": "code",
   "execution_count": 225,
   "metadata": {},
   "outputs": [],
   "source": [
    "from tabulate import tabulate\n",
    "import numpy as np\n",
    "import random\n",
    "\n",
    "n_periods: int = 8\n",
    "\n",
    "team_members: list[str] = [\n",
    "    \"Benjamin\",\n",
    "    \"Vik\",\n",
    "    \"Vigo\",\n",
    "    \"Can\",\n",
    "    \"Njabulo\",\n",
    "    \"Lars\",\n",
    "    \"Sebas\",\n",
    "    \"Kees\",\n",
    "    \"Hamza\",\n",
    "]\n",
    "\n",
    "excl_team: list[str] = []\n",
    "\n",
    "tasks_base = [\n",
    "    \"Keeper\",\n",
    "    \"Aanvaller\",\n",
    "    \"Middenvelder 1\",\n",
    "    \"Middenvelder 2\",\n",
    "    \"Verdediger 1\",\n",
    "    \"Verdediger 2\",\n",
    "]\n",
    "\n",
    "headers = [f\"Periode {i + 1}\" for i in range(n_periods)]\n",
    "\n",
    "keepers: list[str] = [\"Hamza\", \"Vik\", \"Vigo\", \"Njabulo\"]\n",
    "keeper_idx = [team_members.index(keeper) for keeper in keepers]\n",
    "random.shuffle(keeper_idx)\n",
    "\n",
    "team: list[str] = [i for i in team_members if i not in excl_team]\n",
    "team_idx = [team_members.index(member) for member in team]\n",
    "random.shuffle(team_idx)\n",
    "\n",
    "n_team: int = len(team)  # Number of team members\n",
    "n_tasks: int = len(tasks_base)  # Number of team positions\n",
    "n_subs: int = n_team - n_tasks  # The number of subs\n",
    "\n",
    "tasks_sub = [f\"Wissel {i}\" for i in range(1, n_subs + 1)]\n",
    "tasks = tasks_base + tasks_sub\n",
    "\n",
    "# Create the matrix where rows are n team members playing and columns the\n",
    "# n of periods\n",
    "matrix: np.array = np.full((n_team, n_periods), -99).astype(int)"
   ]
  },
  {
   "cell_type": "code",
   "execution_count": 226,
   "metadata": {},
   "outputs": [
    {
     "data": {
      "text/plain": [
       "array([[  4,   4,   8,   8,   1,   1,   2,   2],\n",
       "       [-99, -99, -99, -99, -99, -99, -99, -99],\n",
       "       [-99, -99, -99, -99, -99, -99, -99, -99],\n",
       "       [-99, -99, -99, -99, -99, -99, -99, -99],\n",
       "       [-99, -99, -99, -99, -99, -99, -99, -99],\n",
       "       [-99, -99, -99, -99, -99, -99, -99, -99],\n",
       "       [-99, -99, -99, -99, -99, -99, -99, -99],\n",
       "       [-99, -99, -99, -99, -99, -99, -99, -99],\n",
       "       [-99, -99, -99, -99, -99, -99, -99, -99]])"
      ]
     },
     "execution_count": 226,
     "metadata": {},
     "output_type": "execute_result"
    }
   ],
   "source": [
    "# Set the keepers\n",
    "matrix[0, np.arange(len(keeper_idx)) * 2] = keeper_idx\n",
    "matrix[0, np.arange(len(keeper_idx)) * 2 + 1] = keeper_idx\n",
    "\n",
    "matrix"
   ]
  },
  {
   "cell_type": "code",
   "execution_count": 227,
   "metadata": {},
   "outputs": [
    {
     "data": {
      "text/plain": [
       "array([[  4,   4,   8,   8,   1,   1,   2,   2],\n",
       "       [-99, -99, -99, -99, -99, -99, -99, -99],\n",
       "       [-99, -99, -99, -99, -99, -99, -99, -99],\n",
       "       [-99, -99, -99, -99, -99, -99, -99, -99],\n",
       "       [-99, -99, -99, -99, -99, -99, -99, -99],\n",
       "       [-99, -99, -99, -99, -99, -99, -99, -99],\n",
       "       [  0,   8,   2,   0,   8,   6,   0,   4],\n",
       "       [  5,   1,   3,   5,   4,   2,   5,   1],\n",
       "       [  6,   7,   4,   6,   7,   3,   1,   7]])"
      ]
     },
     "execution_count": 227,
     "metadata": {},
     "output_type": "execute_result"
    }
   ],
   "source": [
    "# Set the substitutes for each period\n",
    "sub_list: list = team_idx * (n_subs + 1)\n",
    "\n",
    "for i in range(n_periods):\n",
    "    for j in range(1, n_subs + 1):\n",
    "        # t represents the first team member id from the list    \n",
    "        t: int = sub_list[0]\n",
    "\n",
    "        # Check if the team member is already in the column\n",
    "        if np.isin(t, matrix[:,i]):\n",
    "            # Take the next element in the list given t is Keeper    \n",
    "            t = sub_list[1]\n",
    "            # Check if team member was sub in previous period, if yes take next\n",
    "            if np.isin(t, matrix[-n_subs:,i-1]):\n",
    "                t = sub_list.pop(2)\n",
    "            else:\n",
    "                t = sub_list.pop(1)\n",
    "            matrix[j * -1, i] = t\n",
    "        else:\n",
    "            sub_list.remove(t)\n",
    "            matrix[j * -1, i] = t        \n",
    "\n",
    "matrix"
   ]
  },
  {
   "cell_type": "code",
   "execution_count": 228,
   "metadata": {},
   "outputs": [
    {
     "name": "stdout",
     "output_type": "stream",
     "text": [
      "1 0\n",
      "1 1\n",
      "1 2\n",
      "1 3\n",
      "1 4\n",
      "1 0\n",
      "1 1\n",
      "1 2\n",
      "1 3\n",
      "1 4\n",
      "1\n",
      "the current attacker Vik is now sub in period 2\n",
      "7\n",
      "1 0\n",
      "1 1\n",
      "1 2\n",
      "1 3\n",
      "1 4\n",
      "1 0\n",
      "1 1\n",
      "1 2\n",
      "1 3\n",
      "1 4\n",
      "0\n",
      "the current attacker Benjamin is now sub in period 4\n",
      "6\n",
      "the current Mid1 Sebas is now sub in period 4\n",
      "1 0\n",
      "1 1\n",
      "1 2\n",
      "1 3\n",
      "1 4\n",
      "1 0\n",
      "1 1\n",
      "1 2\n",
      "1 3\n",
      "1 4\n",
      "6\n",
      "the current attacker Sebas is now sub in period 6\n",
      "6\n",
      "the current Mid1 Can is now sub in period 6\n",
      "1 0\n",
      "1 1\n",
      "1 2\n",
      "1 3\n",
      "1 4\n",
      "1 0\n",
      "1 1\n",
      "1 2\n",
      "1 3\n",
      "1 4\n",
      "4\n",
      "the current attacker Njabulo is now sub in period 8\n",
      "6\n"
     ]
    },
    {
     "data": {
      "text/plain": [
       "array([[  4,   4,   8,   8,   1,   1,   2,   2],\n",
       "       [  1,   5,   0,   2,   6,   8,   4,   0],\n",
       "       [  2,   2,   6,   4,   3,   7,   3,   3],\n",
       "       [-99, -99, -99, -99, -99, -99, -99, -99],\n",
       "       [-99, -99, -99, -99, -99, -99, -99, -99],\n",
       "       [-99, -99, -99, -99, -99, -99, -99, -99],\n",
       "       [  0,   8,   2,   0,   8,   6,   0,   4],\n",
       "       [  5,   1,   3,   5,   4,   2,   5,   1],\n",
       "       [  6,   7,   4,   6,   7,   3,   1,   7]])"
      ]
     },
     "execution_count": 228,
     "metadata": {},
     "output_type": "execute_result"
    }
   ],
   "source": [
    "# Aanvallers for each period\n",
    "for i in range(n_periods):\n",
    "    for j in range(5):\n",
    "        print\n",
    "    if (i+1) % 2 == 0:\n",
    "        # We are substituting in the period\n",
    "        # Get the previous attacker and check if he is substitute\n",
    "\n",
    "        p_attack = matrix[1,i-1] # get attacker from previous period\n",
    "        p_mid1 = matrix[2,i-1]\n",
    "        # p_mid2 = matrix[3,i-1]\n",
    "        # p_def1 = matrix[4,i-1]\n",
    "        # p_def2 = matrix[5,i-1]\n",
    "        print(p_attack)\n",
    "        if p_attack in matrix[:,i]:\n",
    "            print(f\"the current attacker {team_members[p_attack]} is now sub in period {i+1}\")\n",
    "            loc_sub = np.where(matrix[:,i] == p_attack)[0][0]\n",
    "            print(loc_sub)\n",
    "            matrix[1,i] = matrix[loc_sub, i-1]\n",
    "        else:\n",
    "            matrix[1,i] = matrix[1, i-1]\n",
    "\n",
    "        if p_mid1 in matrix[:,i]:\n",
    "            print(f\"the current Mid1 {team_members[p_mid1]} is now sub in period {i+1}\")\n",
    "            loc_sub = np.where(matrix[:,i] == p_mid1)[0][0]\n",
    "            matrix[2,i] = matrix[loc_sub, i-1]\n",
    "        else:\n",
    "            matrix[2,i] = matrix[2, i-1]\n",
    "\n",
    "    else:\n",
    "        unique_values, counts = np.unique(np.append(matrix[1,:], team_idx), \n",
    "                                        return_counts=True)\n",
    "\n",
    "        # Sort the unique values and their counts\n",
    "        sorted_indices = np.argsort(counts)\n",
    "        sorted_values = unique_values[sorted_indices]\n",
    "   \n",
    "        val = np.array([el for el in sorted_values if el not in matrix[:,i]])\n",
    "\n",
    "        matrix[1,i] = val[0]\n",
    "        matrix[2,i] = val[1]\n",
    "matrix"
   ]
  },
  {
   "cell_type": "code",
   "execution_count": 229,
   "metadata": {},
   "outputs": [
    {
     "name": "stdout",
     "output_type": "stream",
     "text": [
      "+----------------+-------------+-------------+-------------+-------------+-------------+-------------+-------------+-------------+\n",
      "|                | Periode 1   | Periode 2   | Periode 3   | Periode 4   | Periode 5   | Periode 6   | Periode 7   | Periode 8   |\n",
      "+================+=============+=============+=============+=============+=============+=============+=============+=============+\n",
      "| Keeper         | Njabulo     | Njabulo     | Hamza       | Hamza       | Vik         | Vik         | Vigo        | Vigo        |\n",
      "+----------------+-------------+-------------+-------------+-------------+-------------+-------------+-------------+-------------+\n",
      "| Aanvaller      | Vik         | Lars        | Benjamin    | Vigo        | Sebas       | Hamza       | Njabulo     | Benjamin    |\n",
      "+----------------+-------------+-------------+-------------+-------------+-------------+-------------+-------------+-------------+\n",
      "| Middenvelder 1 | Vigo        | Vigo        | Sebas       | Njabulo     | Can         | Kees        | Can         | Can         |\n",
      "+----------------+-------------+-------------+-------------+-------------+-------------+-------------+-------------+-------------+\n",
      "| Middenvelder 2 | Benjamin    | Benjamin    | Benjamin    | Benjamin    | Benjamin    | Benjamin    | Benjamin    | Benjamin    |\n",
      "+----------------+-------------+-------------+-------------+-------------+-------------+-------------+-------------+-------------+\n",
      "| Verdediger 1   | Benjamin    | Benjamin    | Benjamin    | Benjamin    | Benjamin    | Benjamin    | Benjamin    | Benjamin    |\n",
      "+----------------+-------------+-------------+-------------+-------------+-------------+-------------+-------------+-------------+\n",
      "| Verdediger 2   | Benjamin    | Benjamin    | Benjamin    | Benjamin    | Benjamin    | Benjamin    | Benjamin    | Benjamin    |\n",
      "+----------------+-------------+-------------+-------------+-------------+-------------+-------------+-------------+-------------+\n",
      "| Wissel 1       | Benjamin    | Hamza       | Vigo        | Benjamin    | Hamza       | Sebas       | Benjamin    | Njabulo     |\n",
      "+----------------+-------------+-------------+-------------+-------------+-------------+-------------+-------------+-------------+\n",
      "| Wissel 2       | Lars        | Vik         | Can         | Lars        | Njabulo     | Vigo        | Lars        | Vik         |\n",
      "+----------------+-------------+-------------+-------------+-------------+-------------+-------------+-------------+-------------+\n",
      "| Wissel 3       | Sebas       | Kees        | Njabulo     | Sebas       | Kees        | Can         | Vik         | Kees        |\n",
      "+----------------+-------------+-------------+-------------+-------------+-------------+-------------+-------------+-------------+\n"
     ]
    }
   ],
   "source": [
    "# Replace the index with the name of team members\n",
    "matrix[matrix == -99] = 0\n",
    "matrix_str = [[team_members[matrix[i][j]] for j in range(n_periods)] for i in range(n_team)]\n",
    "\n",
    "# Add tasks row\n",
    "[row.insert(0, task) for task, row in zip(tasks, matrix_str)]\n",
    "\n",
    "print(tabulate(matrix_str, headers=headers, tablefmt=\"grid\"))"
   ]
  },
  {
   "cell_type": "code",
   "execution_count": 230,
   "metadata": {},
   "outputs": [
    {
     "name": "stdout",
     "output_type": "stream",
     "text": [
      "Value Benjamin: 3 occurrences\n",
      "Value Vik: 3 occurrences\n",
      "Value Vigo: 2 occurrences\n",
      "Value Can: 2 occurrences\n",
      "Value Njabulo: 3 occurrences\n",
      "Value Lars: 3 occurrences\n",
      "Value Sebas: 3 occurrences\n",
      "Value Kees: 3 occurrences\n",
      "Value Hamza: 2 occurrences\n"
     ]
    }
   ],
   "source": [
    "\n",
    "unique_values, counts = np.unique(matrix[-n_subs:, :], return_counts=True)\n",
    "\n",
    "# Combine the unique values and their counts into a dictionary for an overview\n",
    "for value, count in zip(unique_values, counts):\n",
    "    print(f\"Value {team_members[value]}: {count} occurrences\")\n",
    "\n",
    "\n"
   ]
  },
  {
   "cell_type": "code",
   "execution_count": 231,
   "metadata": {},
   "outputs": [
    {
     "name": "stdout",
     "output_type": "stream",
     "text": [
      "+----------------+-------------+-------------+-------------+-------------+-------------+-------------+-------------+-------------+\n",
      "|                | Periode 1   | Periode 2   | Periode 3   | Periode 4   | Periode 5   | Periode 6   | Periode 7   | Periode 8   |\n",
      "+================+=============+=============+=============+=============+=============+=============+=============+=============+\n",
      "| Keeper         | Njabulo     | Njabulo     | Hamza       | Hamza       | Vik         | Vik         | Vigo        | Vigo        |\n",
      "+----------------+-------------+-------------+-------------+-------------+-------------+-------------+-------------+-------------+\n",
      "| Aanvaller      | Vik         | Lars        | Benjamin    | Vigo        | Sebas       | Hamza       | Njabulo     | Benjamin    |\n",
      "+----------------+-------------+-------------+-------------+-------------+-------------+-------------+-------------+-------------+\n",
      "| Middenvelder 1 | Vigo        | Vigo        | Sebas       | Njabulo     | Can         | Kees        | Can         | Can         |\n",
      "+----------------+-------------+-------------+-------------+-------------+-------------+-------------+-------------+-------------+\n",
      "| Middenvelder 2 | Benjamin    | Benjamin    | Benjamin    | Benjamin    | Benjamin    | Benjamin    | Benjamin    | Benjamin    |\n",
      "+----------------+-------------+-------------+-------------+-------------+-------------+-------------+-------------+-------------+\n",
      "| Verdediger 1   | Benjamin    | Benjamin    | Benjamin    | Benjamin    | Benjamin    | Benjamin    | Benjamin    | Benjamin    |\n",
      "+----------------+-------------+-------------+-------------+-------------+-------------+-------------+-------------+-------------+\n",
      "| Verdediger 2   | Benjamin    | Benjamin    | Benjamin    | Benjamin    | Benjamin    | Benjamin    | Benjamin    | Benjamin    |\n",
      "+----------------+-------------+-------------+-------------+-------------+-------------+-------------+-------------+-------------+\n",
      "| Wissel 1       | Benjamin    | Hamza       | Vigo        | Benjamin    | Hamza       | Sebas       | Benjamin    | Njabulo     |\n",
      "+----------------+-------------+-------------+-------------+-------------+-------------+-------------+-------------+-------------+\n",
      "| Wissel 2       | Lars        | Vik         | Can         | Lars        | Njabulo     | Vigo        | Lars        | Vik         |\n",
      "+----------------+-------------+-------------+-------------+-------------+-------------+-------------+-------------+-------------+\n",
      "| Wissel 3       | Sebas       | Kees        | Njabulo     | Sebas       | Kees        | Can         | Vik         | Kees        |\n",
      "+----------------+-------------+-------------+-------------+-------------+-------------+-------------+-------------+-------------+\n"
     ]
    }
   ],
   "source": [
    "# Replace the index with the name of team members\n",
    "matrix_str = [[team_members[matrix[i][j]] for j in range(n_periods)] for i in range(n_team)]\n",
    "\n",
    "# Add tasks row\n",
    "[row.insert(0, task) for task, row in zip(tasks, matrix_str)]\n",
    "\n",
    "print(tabulate(matrix_str, headers=headers, tablefmt=\"grid\"))"
   ]
  }
 ],
 "metadata": {
  "kernelspec": {
   "display_name": ".venv",
   "language": "python",
   "name": "python3"
  },
  "language_info": {
   "codemirror_mode": {
    "name": "ipython",
    "version": 3
   },
   "file_extension": ".py",
   "mimetype": "text/x-python",
   "name": "python",
   "nbconvert_exporter": "python",
   "pygments_lexer": "ipython3",
   "version": "3.12.7"
  }
 },
 "nbformat": 4,
 "nbformat_minor": 2
}
