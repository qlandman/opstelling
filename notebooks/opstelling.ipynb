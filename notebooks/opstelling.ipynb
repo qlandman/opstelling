{
 "cells": [
  {
   "cell_type": "code",
   "execution_count": 7,
   "metadata": {},
   "outputs": [
    {
     "name": "stdout",
     "output_type": "stream",
     "text": [
      "['Benjamin', 'Vik', 'Vigo', 'Can', 'Njabulo', 'Lars', 'Sebas', 'Kees']\n",
      "2\n"
     ]
    }
   ],
   "source": [
    "from tabulate import tabulate\n",
    "import numpy as np\n",
    "from numpy.dtypes import StringDType\n",
    "\n",
    "import random\n",
    "from collections import Counter\n",
    "\n",
    "n_parts: int = 4\n",
    "n_subs: int = 2\n",
    "n_periods = n_parts * n_subs\n",
    "\n",
    "team_members: list[str] = [\n",
    "    \"Benjamin\",\n",
    "    \"Vik\",\n",
    "    \"Vigo\",\n",
    "    \"Can\",\n",
    "    \"Njabulo\",\n",
    "    \"Lars\",\n",
    "    \"Sebas\",\n",
    "    \"Kees\",\n",
    "    \"Hamza\",\n",
    "]\n",
    "\n",
    "excl_team: list[str] = [\"Hamza\"]\n",
    "\n",
    "tasks_base = [\n",
    "    \"Keeper\",\n",
    "    \"Aanvaller\",\n",
    "    \"Middenvelder\",\n",
    "    \"Middenvelder\",\n",
    "    \"Verdediger\",\n",
    "    \"Verdediger\",\n",
    "]\n",
    "\n",
    "headers = [f\"Periode {i + 1}\" for i in range(n_parts)]\n",
    "\n",
    "keepers: list[str] = [\"Can\", \"Vik\", \"Vigo\", \"Njabulo\"]\n",
    "keeper_idx = [team_members.index(keeper) for keeper in keepers]\n",
    "random.shuffle(keeper_idx)\n",
    "\n",
    "team: list[str] = [i for i in team_members if i not in excl_team]\n",
    "print(team)\n",
    "team_idx = [team_members.index(member) for member in team]\n",
    "random.shuffle(team_idx)\n",
    "\n",
    "n_team: int = len(team)  # Number of team members\n",
    "n_tasks: int = len(tasks_base)  # Number of team positions\n",
    "n_subs: int = n_team - n_tasks  # The number of subs\n",
    "print(n_subs)\n",
    "\n",
    "tasks_sub = [\"Wissel\" for i in range(1, n_subs + 1)]\n",
    "tasks = tasks_base + tasks_sub\n",
    "\n",
    "# Create the matrix where rows are n team members playing and columns the\n",
    "# n of periods\n",
    "matrix: np.array = np.full((n_team, n_periods), -1).astype(int)"
   ]
  },
  {
   "cell_type": "code",
   "execution_count": 8,
   "metadata": {},
   "outputs": [
    {
     "data": {
      "text/plain": [
       "array([[ 1,  1,  3,  3,  2,  2,  4,  4],\n",
       "       [-1, -1, -1, -1, -1, -1, -1, -1],\n",
       "       [-1, -1, -1, -1, -1, -1, -1, -1],\n",
       "       [-1, -1, -1, -1, -1, -1, -1, -1],\n",
       "       [-1, -1, -1, -1, -1, -1, -1, -1],\n",
       "       [-1, -1, -1, -1, -1, -1, -1, -1],\n",
       "       [-1, -1, -1, -1, -1, -1, -1, -1],\n",
       "       [-1, -1, -1, -1, -1, -1, -1, -1]])"
      ]
     },
     "execution_count": 8,
     "metadata": {},
     "output_type": "execute_result"
    }
   ],
   "source": [
    "# Set the keepers\n",
    "matrix[0, np.arange(len(keeper_idx)) * 2] = keeper_idx\n",
    "matrix[0, np.arange(len(keeper_idx)) * 2 + 1] = keeper_idx\n",
    "\n",
    "matrix"
   ]
  },
  {
   "cell_type": "code",
   "execution_count": 9,
   "metadata": {},
   "outputs": [
    {
     "data": {
      "text/plain": [
       "array([[ 1,  1,  3,  3,  2,  2,  4,  4],\n",
       "       [-1, -1, -1, -1, -1, -1, -1, -1],\n",
       "       [-1, -1, -1, -1, -1, -1, -1, -1],\n",
       "       [-1, -1, -1, -1, -1, -1, -1, -1],\n",
       "       [-1, -1, -1, -1, -1, -1, -1, -1],\n",
       "       [-1, -1, -1, -1, -1, -1, -1, -1],\n",
       "       [ 3,  4,  6,  1,  3,  5,  6,  1],\n",
       "       [ 7,  2,  5,  0,  7,  4,  2,  0]])"
      ]
     },
     "execution_count": 9,
     "metadata": {},
     "output_type": "execute_result"
    }
   ],
   "source": [
    "# Set the substitutes for each period\n",
    "sub_list: list = team_idx * (n_subs + 1)\n",
    "\n",
    "for i in range(n_periods):\n",
    "    for j in range(1, n_subs + 1):\n",
    "        # t represents the first team member id from the list    \n",
    "        t: int = sub_list[0]\n",
    "\n",
    "        # Check if the team member is already in the column\n",
    "        if np.isin(t, matrix[:,i]):\n",
    "            # Take the next element in the list given t is Keeper    \n",
    "            t = sub_list[1]\n",
    "            # Check if team member was sub in previous period, if yes take next\n",
    "            if np.isin(t, matrix[-n_subs:,i-1]):\n",
    "                t = sub_list.pop(2)\n",
    "            else:\n",
    "                t = sub_list.pop(1)\n",
    "            matrix[j * -1, i] = t\n",
    "        else:\n",
    "            sub_list.remove(t)\n",
    "            matrix[j * -1, i] = t        \n",
    "\n",
    "matrix"
   ]
  },
  {
   "cell_type": "code",
   "execution_count": 10,
   "metadata": {},
   "outputs": [],
   "source": [
    "# # Aanvallers for each period\n",
    "# for i in range(n_periods):            \n",
    "#     if (i+1) % 2 == 0:\n",
    "#         # We are substituting in the period\n",
    "#         # Get the previous attacker and check if he is substitute\n",
    "#         p_attack = matrix[1,i-1] # get attacker from previous period\n",
    "\n",
    "    \n",
    "#         if p_attack in matrix[:,i]:\n",
    "#             print(f\"the current attacker {team_members[p_attack]} is now sub in period {i+1}\")\n",
    "#             loc_sub = np.where(matrix[:,i] == p_attack)[0][0]\n",
    "#             matrix[1,i] = matrix[loc_sub, i-1]\n",
    "#         else:\n",
    "#             matrix[1,i] = matrix[1, i-1]\n",
    "#     else:\n",
    "#         unique_values, counts = np.unique(np.append(matrix[1,:], team_idx), \n",
    "#                                         return_counts=True)\n",
    "\n",
    "#         # Sort the unique values and their counts\n",
    "#         sorted_indices = np.argsort(counts)\n",
    "#         sorted_values = unique_values[sorted_indices]\n",
    "\n",
    "#         val = np.array([el for el in sorted_values if el not in matrix[:,i]])\n",
    "\n",
    "#         matrix[1,i] = val[0]\n",
    "     \n",
    "# matrix"
   ]
  },
  {
   "cell_type": "code",
   "execution_count": 11,
   "metadata": {},
   "outputs": [
    {
     "data": {
      "text/plain": [
       "array([[1, 1, 3, 3, 2, 2, 4, 4],\n",
       "       [2, 7, 0, 5, 6, 6, 3, 3],\n",
       "       [0, 0, 7, 7, 1, 1, 5, 5],\n",
       "       [6, 6, 4, 4, 5, 3, 1, 6],\n",
       "       [5, 5, 1, 6, 0, 0, 7, 7],\n",
       "       [4, 3, 2, 2, 4, 7, 0, 2],\n",
       "       [3, 4, 6, 1, 3, 5, 6, 1],\n",
       "       [7, 2, 5, 0, 7, 4, 2, 0]])"
      ]
     },
     "execution_count": 11,
     "metadata": {},
     "output_type": "execute_result"
    }
   ],
   "source": [
    "def optimize_position(matrix: np.array, n_periods: int, i_s: int, i_e: int):\n",
    "    random.shuffle(team_idx)\n",
    "    for i in range(n_periods):\n",
    "        for j in range(i_s, i_e):\n",
    "            if (i+1) % 2 == 0:\n",
    "                # 2 midfielders \n",
    "                position = matrix[j,i-1]\n",
    "            \n",
    "                if position in matrix[:,i]:\n",
    "                    loc_sub = np.where(matrix[:,i] == position)[0][0]\n",
    "                    matrix[j,i] = matrix[loc_sub, i-1]\n",
    "                else:\n",
    "                    matrix[j,i] = matrix[j, i-1]\n",
    "            else:\n",
    "                sorted_pos = [num for (num, cnt) in \n",
    "                              Counter(np.append(matrix[i_s:i_e,:], team_idx)).most_common()]\n",
    "                \n",
    "                sorted_pos = np.flip(np.asarray(sorted_pos))\n",
    "\n",
    "                val = np.array([el for el in sorted_pos if el not in matrix[:,i]])\n",
    "\n",
    "                matrix[j,i] = val[0]\n",
    "    \n",
    "    return matrix\n",
    "\n",
    "\n",
    "matrix = optimize_position(matrix, n_periods, 1, 2) # Attackers\n",
    "matrix = optimize_position(matrix, n_periods, 2, 4) # Midfield\n",
    "matrix = optimize_position(matrix, n_periods, 4, 6) # Defenders\n",
    "\n",
    "matrix"
   ]
  },
  {
   "cell_type": "code",
   "execution_count": null,
   "metadata": {},
   "outputs": [
    {
     "name": "stdout",
     "output_type": "stream",
     "text": [
      "+--------------+----------------+------------------+-----------------+------------------+\n",
      "|              | Periode 1      | Periode 2        | Periode 3       | Periode 4        |\n",
      "+==============+================+==================+=================+==================+\n",
      "| Keeper       | Vik            | Can              | Vigo            | Njabulo          |\n",
      "+--------------+----------------+------------------+-----------------+------------------+\n",
      "| Aanvaller    | Vigo -> Kees   | Benjamin -> Lars | Sebas           | Can              |\n",
      "+--------------+----------------+------------------+-----------------+------------------+\n",
      "| Middenvelder | Benjamin       | Kees             | Vik             | Lars             |\n",
      "+--------------+----------------+------------------+-----------------+------------------+\n",
      "| Middenvelder | Sebas          | Njabulo          | Lars -> Can     | Vik -> Sebas     |\n",
      "+--------------+----------------+------------------+-----------------+------------------+\n",
      "| Verdediger   | Lars           | Vik -> Sebas     | Benjamin        | Kees             |\n",
      "+--------------+----------------+------------------+-----------------+------------------+\n",
      "| Verdediger   | Njabulo -> Can | Vigo             | Njabulo -> Kees | Benjamin -> Vigo |\n",
      "+--------------+----------------+------------------+-----------------+------------------+\n",
      "| Wissel       | Can -> Njabulo | Sebas -> Vik     | Can -> Lars     | Sebas -> Vik     |\n",
      "+--------------+----------------+------------------+-----------------+------------------+\n",
      "| Wissel       | Kees -> Vigo   | Lars -> Benjamin | Kees -> Njabulo | Vigo -> Benjamin |\n",
      "+--------------+----------------+------------------+-----------------+------------------+\n"
     ]
    }
   ],
   "source": [
    "# Replace the index with the name of team members\n",
    "# matrix[matrix == -99] = -1\n",
    "matrix_str = [[team_members[matrix[i][j]] for j in range(n_periods)] for i in range(n_team)]\n",
    "\n",
    "team_members_array = np.array(team_members)\n",
    "print(matrix)\n",
    "print(team_members_array)\n",
    "matrix_str: np.ndarray = team_members_array[matrix]\n",
    "\n",
    "matrix_str_condensed: np.array = np.zeros((matrix_str.shape[0],n_parts), dtype=StringDType())\n",
    "\n",
    "# Condens the table to the number of parts\n",
    "for i in range(n_parts):\n",
    "    for j in range(matrix.shape[0]):\n",
    "        if matrix_str[j, i *2] == matrix_str[j, i*2+1]:\n",
    "            matrix_str_condensed[j, i] = matrix_str[j, i*2]\n",
    "        else:\n",
    "            matrix_str_condensed[j, i] = f\"{matrix_str[j, i *2]} -> {matrix_str[j, i*2+1]}\"\n",
    "\n",
    "matrix_str = matrix_str_condensed.tolist()\n",
    "\n",
    "# Add tasks row\n",
    "[row.insert(0, task) for task, row in zip(tasks, matrix_str)]\n",
    "\n",
    "print(tabulate(matrix_str, headers=headers, tablefmt=\"grid\"))"
   ]
  }
 ],
 "metadata": {
  "kernelspec": {
   "display_name": "Python 3",
   "language": "python",
   "name": "python3"
  },
  "language_info": {
   "codemirror_mode": {
    "name": "ipython",
    "version": 3
   },
   "file_extension": ".py",
   "mimetype": "text/x-python",
   "name": "python",
   "nbconvert_exporter": "python",
   "pygments_lexer": "ipython3",
   "version": "3.12.7"
  }
 },
 "nbformat": 4,
 "nbformat_minor": 2
}
